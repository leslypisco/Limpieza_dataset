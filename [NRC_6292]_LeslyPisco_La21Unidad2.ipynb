{
 "cells": [
  {
   "cell_type": "markdown",
   "id": "8d031f09",
   "metadata": {},
   "source": [
    "<center><h1 style=\"color:green;\">LESLY MILENA PISCO QUISPE</h1></centre>"
   ]
  },
  {
   "cell_type": "markdown",
   "id": "6b60aa86",
   "metadata": {},
   "source": [
    "# Librerías"
   ]
  },
  {
   "cell_type": "code",
   "execution_count": 1,
   "id": "8c542a2e",
   "metadata": {},
   "outputs": [],
   "source": [
    "'''La libreria pandas proporciona herramientas de analisis y manipulacion de datos de alto rendimiento'''\n",
    "import pandas as pd"
   ]
  },
  {
   "cell_type": "markdown",
   "id": "797a25a0",
   "metadata": {},
   "source": [
    "<center><h1 style=\"color:red;\">EXTRAER</h1></centre>"
   ]
  },
  {
   "cell_type": "markdown",
   "id": "7e328301",
   "metadata": {},
   "source": [
    "# Lectura del dataset"
   ]
  },
  {
   "cell_type": "code",
   "execution_count": 2,
   "id": "2e4ed2d3",
   "metadata": {},
   "outputs": [],
   "source": [
    "'''Archivo 'csv' gardado en una variable para hacer mas didactica la llamada del dataset  '''\n",
    "archivo='data_act_01.csv'"
   ]
  },
  {
   "cell_type": "code",
   "execution_count": 3,
   "id": "56d5aef4",
   "metadata": {},
   "outputs": [
    {
     "data": {
      "text/html": [
       "<div>\n",
       "<style scoped>\n",
       "    .dataframe tbody tr th:only-of-type {\n",
       "        vertical-align: middle;\n",
       "    }\n",
       "\n",
       "    .dataframe tbody tr th {\n",
       "        vertical-align: top;\n",
       "    }\n",
       "\n",
       "    .dataframe thead th {\n",
       "        text-align: right;\n",
       "    }\n",
       "</style>\n",
       "<table border=\"1\" class=\"dataframe\">\n",
       "  <thead>\n",
       "    <tr style=\"text-align: right;\">\n",
       "      <th></th>\n",
       "      <th>CrimeId</th>\n",
       "      <th>OriginalCrimeTypeName</th>\n",
       "      <th>OffenseDate</th>\n",
       "      <th>CallTime</th>\n",
       "      <th>CallDateTime</th>\n",
       "      <th>Disposition</th>\n",
       "      <th>Address</th>\n",
       "      <th>City</th>\n",
       "      <th>State</th>\n",
       "      <th>AgencyId</th>\n",
       "      <th>Range</th>\n",
       "      <th>AddressType</th>\n",
       "    </tr>\n",
       "  </thead>\n",
       "  <tbody>\n",
       "    <tr>\n",
       "      <th>0</th>\n",
       "      <td>160903280</td>\n",
       "      <td>Assault / Battery</td>\n",
       "      <td>2016-03-30T00:00:00</td>\n",
       "      <td>18:42</td>\n",
       "      <td>2016-03-30T18:42:00</td>\n",
       "      <td>REP</td>\n",
       "      <td>100 Block Of Chilton Av</td>\n",
       "      <td>San Francisco</td>\n",
       "      <td>CA</td>\n",
       "      <td>1</td>\n",
       "      <td>NaN</td>\n",
       "      <td>Premise Address</td>\n",
       "    </tr>\n",
       "    <tr>\n",
       "      <th>1</th>\n",
       "      <td>160912272</td>\n",
       "      <td>Homeless Complaint</td>\n",
       "      <td>2016-03-31T00:00:00</td>\n",
       "      <td>15:31</td>\n",
       "      <td>2016-03-31T15:31:00</td>\n",
       "      <td>GOA</td>\n",
       "      <td>2300 Block Of Market St</td>\n",
       "      <td>San Francisco</td>\n",
       "      <td>CA</td>\n",
       "      <td>1</td>\n",
       "      <td>NaN</td>\n",
       "      <td>Premise Address</td>\n",
       "    </tr>\n",
       "    <tr>\n",
       "      <th>2</th>\n",
       "      <td>160912590</td>\n",
       "      <td>Susp Info</td>\n",
       "      <td>2016-03-31T00:00:00</td>\n",
       "      <td>16:49</td>\n",
       "      <td>2016-03-31T16:49:00</td>\n",
       "      <td>GOA</td>\n",
       "      <td>2300 Block Of Market St</td>\n",
       "      <td>San Francisco</td>\n",
       "      <td>CA</td>\n",
       "      <td>1</td>\n",
       "      <td>NaN</td>\n",
       "      <td>Premise Address</td>\n",
       "    </tr>\n",
       "    <tr>\n",
       "      <th>3</th>\n",
       "      <td>160912801</td>\n",
       "      <td>Report</td>\n",
       "      <td>2016-03-31T00:00:00</td>\n",
       "      <td>17:38</td>\n",
       "      <td>2016-03-31T17:38:00</td>\n",
       "      <td>GOA</td>\n",
       "      <td>500 Block Of 7th St</td>\n",
       "      <td>San Francisco</td>\n",
       "      <td>CA</td>\n",
       "      <td>1</td>\n",
       "      <td>NaN</td>\n",
       "      <td>Premise Address</td>\n",
       "    </tr>\n",
       "    <tr>\n",
       "      <th>4</th>\n",
       "      <td>160912811</td>\n",
       "      <td>594</td>\n",
       "      <td>2016-03-31T00:00:00</td>\n",
       "      <td>17:42</td>\n",
       "      <td>2016-03-31T17:42:00</td>\n",
       "      <td>REP</td>\n",
       "      <td>Beale St/bryant St</td>\n",
       "      <td>San Francisco</td>\n",
       "      <td>CA</td>\n",
       "      <td>1</td>\n",
       "      <td>NaN</td>\n",
       "      <td>Intersection</td>\n",
       "    </tr>\n",
       "  </tbody>\n",
       "</table>\n",
       "</div>"
      ],
      "text/plain": [
       "     CrimeId OriginalCrimeTypeName          OffenseDate CallTime  \\\n",
       "0  160903280     Assault / Battery  2016-03-30T00:00:00    18:42   \n",
       "1  160912272    Homeless Complaint  2016-03-31T00:00:00    15:31   \n",
       "2  160912590             Susp Info  2016-03-31T00:00:00    16:49   \n",
       "3  160912801                Report  2016-03-31T00:00:00    17:38   \n",
       "4  160912811                   594  2016-03-31T00:00:00    17:42   \n",
       "\n",
       "          CallDateTime Disposition                  Address           City  \\\n",
       "0  2016-03-30T18:42:00         REP  100 Block Of Chilton Av  San Francisco   \n",
       "1  2016-03-31T15:31:00         GOA  2300 Block Of Market St  San Francisco   \n",
       "2  2016-03-31T16:49:00         GOA  2300 Block Of Market St  San Francisco   \n",
       "3  2016-03-31T17:38:00         GOA      500 Block Of 7th St  San Francisco   \n",
       "4  2016-03-31T17:42:00         REP       Beale St/bryant St  San Francisco   \n",
       "\n",
       "  State AgencyId  Range      AddressType  \n",
       "0    CA        1    NaN  Premise Address  \n",
       "1    CA        1    NaN  Premise Address  \n",
       "2    CA        1    NaN  Premise Address  \n",
       "3    CA        1    NaN  Premise Address  \n",
       "4    CA        1    NaN     Intersection  "
      ]
     },
     "execution_count": 3,
     "metadata": {},
     "output_type": "execute_result"
    }
   ],
   "source": [
    "'''Lectura del dataset usando la funcion pandas, como parametros se pasa la variable que contiene\n",
    "el archivo 'csv' y su debida separacion, que en este caso esta delimitado por ';' '''\n",
    "df= pd.read_csv(archivo,sep=(';'))\n",
    "'''Usando la funcion 'head()' se puede construir un dataframe de los datos cargados en la \n",
    "variable objeto df '''\n",
    "df.head()"
   ]
  },
  {
   "cell_type": "markdown",
   "id": "1a84939f",
   "metadata": {},
   "source": [
    "<center><h1 style=\"color:red;\">TRANSFORMAR</h1></centre>"
   ]
  },
  {
   "cell_type": "markdown",
   "id": "3ac9caf1",
   "metadata": {},
   "source": [
    "# Diagnóstico de los datos"
   ]
  },
  {
   "cell_type": "markdown",
   "id": "e8e08ebc",
   "metadata": {},
   "source": [
    "### Verificación de los datos nulos"
   ]
  },
  {
   "cell_type": "code",
   "execution_count": 4,
   "id": "929c60f1",
   "metadata": {},
   "outputs": [
    {
     "data": {
      "text/plain": [
       "CrimeId                      0\n",
       "OriginalCrimeTypeName        0\n",
       "OffenseDate                  0\n",
       "CallTime                     0\n",
       "CallDateTime                 0\n",
       "Disposition                  0\n",
       "Address                      0\n",
       "City                       321\n",
       "State                        3\n",
       "AgencyId                     0\n",
       "Range                    10051\n",
       "AddressType                  0\n",
       "dtype: int64"
      ]
     },
     "execution_count": 4,
     "metadata": {},
     "output_type": "execute_result"
    }
   ],
   "source": [
    "'''Usando la funcion 'isnull()' se puede determinar si existen datos nulos en las columnas del \n",
    "dataset. Con esto se da uso de la funcion 'sum()' que permite saber cuantos valores nulos hay en\n",
    "el dataset.'''\n",
    "df.isnull().sum()"
   ]
  },
  {
   "cell_type": "markdown",
   "id": "1e9c400d",
   "metadata": {},
   "source": [
    "### Tipos de datos"
   ]
  },
  {
   "cell_type": "code",
   "execution_count": 5,
   "id": "ac522f1f",
   "metadata": {},
   "outputs": [
    {
     "data": {
      "text/plain": [
       "CrimeId                    int64\n",
       "OriginalCrimeTypeName     object\n",
       "OffenseDate               object\n",
       "CallTime                  object\n",
       "CallDateTime              object\n",
       "Disposition               object\n",
       "Address                   object\n",
       "City                      object\n",
       "State                     object\n",
       "AgencyId                  object\n",
       "Range                    float64\n",
       "AddressType               object\n",
       "dtype: object"
      ]
     },
     "execution_count": 5,
     "metadata": {},
     "output_type": "execute_result"
    }
   ],
   "source": [
    "''' Dando uso del objeto dtypes, se pueden determinar los tipos de datos que contiene el dataset, en\n",
    "este caso se presentaran los tipos de datos de cada una de las columnas.'''\n",
    "df.dtypes"
   ]
  },
  {
   "cell_type": "markdown",
   "id": "761b1172",
   "metadata": {},
   "source": [
    "### Verificación de datos errados mediante el agrupamiento"
   ]
  },
  {
   "cell_type": "code",
   "execution_count": 6,
   "id": "117cd200",
   "metadata": {},
   "outputs": [
    {
     "data": {
      "text/plain": [
       "OriginalCrimeTypeName\n",
       "***901 Req***     1\n",
       "**Tazer**         1\n",
       "*909*             1\n",
       ".25/500e          2\n",
       ".52               1\n",
       "                 ..\n",
       "Wz               12\n",
       "X                17\n",
       "X 594             1\n",
       "Yelling           3\n",
       "`Drugs            1\n",
       "Length: 575, dtype: int64"
      ]
     },
     "execution_count": 6,
     "metadata": {},
     "output_type": "execute_result"
    }
   ],
   "source": [
    "'''Se considera agrupar los datos de la columna 'OriginalCrimeTypeName' usando la funcion 'groupby()'. Se debe\n",
    "de tener en consideracion que para saber la longitud de datos que se repiten se adjunta la funcion \n",
    "'size()' '''\n",
    "df.groupby('OriginalCrimeTypeName').size()"
   ]
  },
  {
   "cell_type": "code",
   "execution_count": 7,
   "id": "e4cf28fc",
   "metadata": {},
   "outputs": [
    {
     "data": {
      "text/plain": [
       "Disposition\n",
       "22                77\n",
       "ABA               97\n",
       "ADM               48\n",
       "ADV             1142\n",
       "ARR               65\n",
       "CAN              353\n",
       "CIT             1425\n",
       "CRT                2\n",
       "GOA             1273\n",
       "HAN             2820\n",
       "INC               17\n",
       "NCR               82\n",
       "ND               427\n",
       "NOM              324\n",
       "Not recorded     543\n",
       "PAS              170\n",
       "REP              800\n",
       "SFD                1\n",
       "UTL              385\n",
       "dtype: int64"
      ]
     },
     "execution_count": 7,
     "metadata": {},
     "output_type": "execute_result"
    }
   ],
   "source": [
    "'''Se considera agrupar los datos de la columna 'Disposition' usando la funcion 'groupby()'. Se debe\n",
    "de tener en consideracion que para saber la longitud de datos que se repiten se adjunta la funcion \n",
    "'size()' '''\n",
    "df.groupby('Disposition').size()"
   ]
  },
  {
   "cell_type": "code",
   "execution_count": 8,
   "id": "9cad29e4",
   "metadata": {},
   "outputs": [
    {
     "data": {
      "text/plain": [
       "Disposition\n",
       "22                77\n",
       "ABA               97\n",
       "ADM               48\n",
       "ADV             1142\n",
       "ARR               65\n",
       "CAN              353\n",
       "CIT             1425\n",
       "CRT                2\n",
       "GOA             1273\n",
       "HAN             2820\n",
       "INC               17\n",
       "NCR               82\n",
       "ND               427\n",
       "NOM              324\n",
       "Not recorded     543\n",
       "PAS              170\n",
       "REP              800\n",
       "SFD                1\n",
       "UTL              385\n",
       "dtype: int64"
      ]
     },
     "execution_count": 8,
     "metadata": {},
     "output_type": "execute_result"
    }
   ],
   "source": [
    "'''Se considera agrupar los datos de la columna 'Disposition' usando la funcion 'groupby()'. Se debe\n",
    "de tener en consideracion que para saber la longitud de datos que se repiten se adjunta la funcion \n",
    "'size()' '''\n",
    "df.groupby('Disposition').size()"
   ]
  },
  {
   "cell_type": "code",
   "execution_count": 9,
   "id": "a78508f3",
   "metadata": {},
   "outputs": [
    {
     "data": {
      "text/plain": [
       "City\n",
       " S                  1\n",
       "Brisbane            1\n",
       "Daly City           5\n",
       "Presidio            3\n",
       "SAN FRANCISCO       1\n",
       "San Francisco    9665\n",
       "Treasure Isla      51\n",
       "Yerba Buena         3\n",
       "dtype: int64"
      ]
     },
     "execution_count": 9,
     "metadata": {},
     "output_type": "execute_result"
    }
   ],
   "source": [
    "'''Se considera agrupar los datos de la columna 'City' usando la funcion 'groupby()'. Se debe de tener\n",
    "en consideracion que para saber la longitud de datos que se repiten se adjunta la funcion 'size()' '''\n",
    "df.groupby('City').size()"
   ]
  },
  {
   "cell_type": "code",
   "execution_count": 10,
   "id": "42b3b714",
   "metadata": {},
   "outputs": [
    {
     "data": {
      "text/plain": [
       "AgencyId\n",
       "1     10048\n",
       "CA        3\n",
       "dtype: int64"
      ]
     },
     "execution_count": 10,
     "metadata": {},
     "output_type": "execute_result"
    }
   ],
   "source": [
    "'''Se considera agrupar los datos de la columna 'AgencyId' usando la funcion 'groupby()'. se debe\n",
    "de tener en consideracion que para saber la longitud de datos que se repiten se adjunta la funcion \n",
    "'size()' '''\n",
    "df.groupby('AgencyId').size()"
   ]
  },
  {
   "cell_type": "code",
   "execution_count": 11,
   "id": "30737e77",
   "metadata": {},
   "outputs": [
    {
     "data": {
      "text/plain": [
       "AddressType\n",
       "1                     3\n",
       "Common Location     818\n",
       "Geo-Override        469\n",
       "Intersection       3701\n",
       "Intersectioon         1\n",
       "Premise Address    5059\n",
       "dtype: int64"
      ]
     },
     "execution_count": 11,
     "metadata": {},
     "output_type": "execute_result"
    }
   ],
   "source": [
    "'''Se considera agrupar los datos de la columna 'AddressType' usando la funcion 'groupby()'. se debe\n",
    "de tener en consideracion que para saber la longitud de datos que se repiten se adjunta la funcion \n",
    "'size()' '''\n",
    "df.groupby('AddressType').size()"
   ]
  },
  {
   "cell_type": "markdown",
   "id": "3e22f880",
   "metadata": {},
   "source": [
    "### Visualización de las filas erradas"
   ]
  },
  {
   "cell_type": "code",
   "execution_count": 12,
   "id": "b0cace37",
   "metadata": {},
   "outputs": [
    {
     "data": {
      "text/html": [
       "<div>\n",
       "<style scoped>\n",
       "    .dataframe tbody tr th:only-of-type {\n",
       "        vertical-align: middle;\n",
       "    }\n",
       "\n",
       "    .dataframe tbody tr th {\n",
       "        vertical-align: top;\n",
       "    }\n",
       "\n",
       "    .dataframe thead th {\n",
       "        text-align: right;\n",
       "    }\n",
       "</style>\n",
       "<table border=\"1\" class=\"dataframe\">\n",
       "  <thead>\n",
       "    <tr style=\"text-align: right;\">\n",
       "      <th></th>\n",
       "      <th>CrimeId</th>\n",
       "      <th>OriginalCrimeTypeName</th>\n",
       "      <th>OffenseDate</th>\n",
       "      <th>CallTime</th>\n",
       "      <th>CallDateTime</th>\n",
       "      <th>Disposition</th>\n",
       "      <th>Address</th>\n",
       "      <th>City</th>\n",
       "      <th>State</th>\n",
       "      <th>AgencyId</th>\n",
       "      <th>Range</th>\n",
       "      <th>AddressType</th>\n",
       "    </tr>\n",
       "  </thead>\n",
       "  <tbody>\n",
       "    <tr>\n",
       "      <th>5771</th>\n",
       "      <td>160942112</td>\n",
       "      <td>Auto Boost / Strip</td>\n",
       "      <td>2016-04-03T00:00:00</td>\n",
       "      <td>14:30</td>\n",
       "      <td>2016-04-03T14:30:00</td>\n",
       "      <td>REP</td>\n",
       "      <td>Martin Luther King Dr/bowling Green Dr</td>\n",
       "      <td>NaN</td>\n",
       "      <td>NaN</td>\n",
       "      <td>CA</td>\n",
       "      <td>NaN</td>\n",
       "      <td>1</td>\n",
       "    </tr>\n",
       "    <tr>\n",
       "      <th>8021</th>\n",
       "      <td>160952280</td>\n",
       "      <td>Auto Boost / Strip</td>\n",
       "      <td>2016-04-04T00:00:00</td>\n",
       "      <td>14:46</td>\n",
       "      <td>2016-04-04T14:46:00</td>\n",
       "      <td>REP</td>\n",
       "      <td>Martin Luther King Dr/nancy Pelosi Dr</td>\n",
       "      <td>S</td>\n",
       "      <td>NaN</td>\n",
       "      <td>CA</td>\n",
       "      <td>NaN</td>\n",
       "      <td>1</td>\n",
       "    </tr>\n",
       "    <tr>\n",
       "      <th>8473</th>\n",
       "      <td>160953118</td>\n",
       "      <td>Auto Boost / Strip</td>\n",
       "      <td>2016-04-04T00:00:00</td>\n",
       "      <td>18:11</td>\n",
       "      <td>2016-04-04T18:11:00</td>\n",
       "      <td>REP</td>\n",
       "      <td>Conservatory Drive E/john F Kennedy Dr</td>\n",
       "      <td>NaN</td>\n",
       "      <td>NaN</td>\n",
       "      <td>CA</td>\n",
       "      <td>NaN</td>\n",
       "      <td>1</td>\n",
       "    </tr>\n",
       "  </tbody>\n",
       "</table>\n",
       "</div>"
      ],
      "text/plain": [
       "        CrimeId OriginalCrimeTypeName          OffenseDate CallTime  \\\n",
       "5771  160942112    Auto Boost / Strip  2016-04-03T00:00:00    14:30   \n",
       "8021  160952280    Auto Boost / Strip  2016-04-04T00:00:00    14:46   \n",
       "8473  160953118    Auto Boost / Strip  2016-04-04T00:00:00    18:11   \n",
       "\n",
       "             CallDateTime Disposition                                 Address  \\\n",
       "5771  2016-04-03T14:30:00         REP  Martin Luther King Dr/bowling Green Dr   \n",
       "8021  2016-04-04T14:46:00         REP   Martin Luther King Dr/nancy Pelosi Dr   \n",
       "8473  2016-04-04T18:11:00         REP  Conservatory Drive E/john F Kennedy Dr   \n",
       "\n",
       "     City State AgencyId  Range AddressType  \n",
       "5771  NaN   NaN       CA    NaN           1  \n",
       "8021    S   NaN       CA    NaN           1  \n",
       "8473  NaN   NaN       CA    NaN           1  "
      ]
     },
     "execution_count": 12,
     "metadata": {},
     "output_type": "execute_result"
    }
   ],
   "source": [
    "'''Llamando la columna 'AddressType' en la que se llaman especificamente su valor es de uno '''\n",
    "df[df.AddressType == '1']"
   ]
  },
  {
   "cell_type": "markdown",
   "id": "e3b50096",
   "metadata": {},
   "source": [
    "# Limpieza de datos"
   ]
  },
  {
   "cell_type": "markdown",
   "id": "8a59e9b3",
   "metadata": {},
   "source": [
    "### Eliminación de columnas"
   ]
  },
  {
   "cell_type": "code",
   "execution_count": 13,
   "id": "d48f4c8b",
   "metadata": {},
   "outputs": [],
   "source": [
    "'''Eliminacion de la columna 'CallTime' debido a su redundancia con la columna 'CallDateTime' y la \n",
    "columna 'Range' por la alta cantidad de registros nulos. Usando la funcion 'drop()' se pueden \n",
    "identificar la cantidad de columnas que se desean eliminar. Se debe de especificar \n",
    "'inplace = True'debido a que no se crea ningún objeto nuevo, el objeto original se modifica \n",
    "directamente.'''\n",
    "df.drop(columns=['CallTime','Range'], inplace=True)"
   ]
  },
  {
   "cell_type": "markdown",
   "id": "2d3fbdaa",
   "metadata": {},
   "source": [
    "### Reemplazo de datos errados y nulos"
   ]
  },
  {
   "cell_type": "code",
   "execution_count": 14,
   "id": "24896a75",
   "metadata": {},
   "outputs": [],
   "source": [
    "'''Como se encontraron datos errados en la columna 'OriginalCrimeTypeName' se procede a corregir los errores usando\n",
    "la funcion 'replace()' para reemplazar los datos errados por los datos correctos'''\n",
    "df['OriginalCrimeTypeName'].replace({'***901 Req***': '901 Req',\n",
    "                        '**Tazer**': 'Tazer',\n",
    "                        '*909*': '909',\n",
    "                        '.25/500e':'25/500e',\n",
    "                        '.52':'52',\n",
    "                        '`Drugs':'Drugs'}, inplace=True)"
   ]
  },
  {
   "cell_type": "code",
   "execution_count": 15,
   "id": "93e0742a",
   "metadata": {},
   "outputs": [],
   "source": [
    "'''Como se encontraron datos errados en la columna 'City' se procede a corregir los errores usando\n",
    "la funcion 'replace()' para reemplazar los datos errados por los datos correctos'''\n",
    "df['City'].replace({'SAN FRANCISCO': 'San Francisco',\n",
    "                        ' S': 'San Francisco',\n",
    "                        'Treasure Isla': 'Treasure Island'}, inplace=True)"
   ]
  },
  {
   "cell_type": "code",
   "execution_count": 16,
   "id": "b9085191",
   "metadata": {},
   "outputs": [],
   "source": [
    "'''Como se encontraron datos errados en la columna 'AgencyId' se procede a corregir los errores usando\n",
    "la funcion 'replace()' para reemplazar los datos errados por los correctos'''\n",
    "df['AgencyId']=df['AgencyId'].replace('CA','1')"
   ]
  },
  {
   "cell_type": "code",
   "execution_count": 17,
   "id": "bb09f258",
   "metadata": {},
   "outputs": [],
   "source": [
    "'''Como se encontraron datos errados en la columna 'AddressType' se procede a corregir los errores usando\n",
    "la funcion 'replace()' para reemplazar los datos errados por los correctos'''\n",
    "df['AddressType']=df['AddressType'].replace('Intersectioon', 'Intersection')"
   ]
  },
  {
   "cell_type": "code",
   "execution_count": 18,
   "id": "c7d1df5f",
   "metadata": {},
   "outputs": [],
   "source": [
    "'''Como se encontraron datos errados en la columna 'Disposition' se procede a corregir los errores usando\n",
    "la funcion 'replace()' para reemplazar los datos errados por los correctos'''\n",
    "df['Disposition'] = df['Disposition'].replace('Not recorded','NR')"
   ]
  },
  {
   "cell_type": "code",
   "execution_count": 19,
   "id": "4315eff7",
   "metadata": {},
   "outputs": [],
   "source": [
    "'''Reemplazo por el valor que mas se repite es decir la moda'''\n",
    "df['AddressType']=df['AddressType'].replace('1','Premise Address')"
   ]
  },
  {
   "cell_type": "code",
   "execution_count": 20,
   "id": "64762b75",
   "metadata": {},
   "outputs": [],
   "source": [
    "'''Reemplazo de los datos nulos usando la funcion fillna() por el valor que mas se repite'''\n",
    "df['State'].fillna('CA', inplace=True)"
   ]
  },
  {
   "cell_type": "code",
   "execution_count": 21,
   "id": "4c868c29",
   "metadata": {},
   "outputs": [],
   "source": [
    "'''Eliminacion de los datos NaN'''\n",
    "df['City'].fillna('Not Defined', inplace=True)"
   ]
  },
  {
   "cell_type": "markdown",
   "id": "30826502",
   "metadata": {},
   "source": [
    "### Cambio de tipo de datos"
   ]
  },
  {
   "cell_type": "code",
   "execution_count": 22,
   "id": "6601622b",
   "metadata": {},
   "outputs": [],
   "source": [
    "''' Como se diagnosticaron que los tipos de datos de la columna 'CallDateTime' se encontraban como\n",
    "objetos, se procede a cambiar a un tipo adecuado lo cual es 'datetime'. Gracias a las funciones\n",
    "que ofrece la libreria pandas, se puede hacer el cambio considerando al tipo de dato que se desea cambiar'''\n",
    "df['CallDateTime'] = pd.to_datetime(df['CallDateTime'], errors='coerce')"
   ]
  },
  {
   "cell_type": "code",
   "execution_count": 23,
   "id": "d4a07079",
   "metadata": {},
   "outputs": [],
   "source": [
    "''' Como se diagnosticaron que los tipos de datos de la columna 'OffenseDate' se encontraban como\n",
    "objetos, se procede a cambiar a un tipo adecuado lo cual es 'datetime'. Gracias a las funciones\n",
    "que ofrece la libreria pandas, se puede hacer el cambio considerando al tipo de dato que se desea cambiar'''\n",
    "df['OffenseDate'] = pd.to_datetime(df['OffenseDate'], errors='coerce')"
   ]
  },
  {
   "cell_type": "code",
   "execution_count": 24,
   "id": "72fe0b33",
   "metadata": {},
   "outputs": [],
   "source": [
    "''' Como se diagnosticaron que los tipos de datos de la columna 'AgencyId' se encontraban como\n",
    "objetos, se procede a cambiar a un tipo adecuado lo cual es 'numerico'. Gracias a las funciones\n",
    "que ofrece la libreria pandas, se puede hacer el cambio considerando al tipo de dato que se \n",
    "desea cambiar'''\n",
    "df['AgencyId'] = pd.to_numeric(df['AgencyId'], errors='coerce')"
   ]
  },
  {
   "cell_type": "markdown",
   "id": "e58e90fc",
   "metadata": {},
   "source": [
    "# Verificación de la limpieza"
   ]
  },
  {
   "cell_type": "code",
   "execution_count": 25,
   "id": "f1b70274",
   "metadata": {},
   "outputs": [
    {
     "data": {
      "text/plain": [
       "CrimeId                  0\n",
       "OriginalCrimeTypeName    0\n",
       "OffenseDate              0\n",
       "CallDateTime             0\n",
       "Disposition              0\n",
       "Address                  0\n",
       "City                     0\n",
       "State                    0\n",
       "AgencyId                 0\n",
       "AddressType              0\n",
       "dtype: int64"
      ]
     },
     "execution_count": 25,
     "metadata": {},
     "output_type": "execute_result"
    }
   ],
   "source": [
    "'''Usando la funcion 'isnull()' se puede determinar si existen datos nulos en las columnas del \n",
    "dataset. Con esto se da uso de la funcion 'sum()' que permite saber cuantos valores nulos hay en\n",
    "el dataset.'''\n",
    "df.isnull().sum()"
   ]
  },
  {
   "cell_type": "code",
   "execution_count": 26,
   "id": "def52bd2",
   "metadata": {
    "scrolled": true
   },
   "outputs": [
    {
     "data": {
      "text/plain": [
       "CrimeId                           int64\n",
       "OriginalCrimeTypeName            object\n",
       "OffenseDate              datetime64[ns]\n",
       "CallDateTime             datetime64[ns]\n",
       "Disposition                      object\n",
       "Address                          object\n",
       "City                             object\n",
       "State                            object\n",
       "AgencyId                          int64\n",
       "AddressType                      object\n",
       "dtype: object"
      ]
     },
     "execution_count": 26,
     "metadata": {},
     "output_type": "execute_result"
    }
   ],
   "source": [
    "''' Dando uso del objeto dtypes, se pueden determinar los tipos de datos que contiene el dataset, en\n",
    "este caso se presentaran los tipos de datos de cada una de las columnas.'''\n",
    "df.dtypes"
   ]
  },
  {
   "cell_type": "markdown",
   "id": "df97e95b",
   "metadata": {},
   "source": [
    "<center><h1 style=\"color:red;\">CARGAR</h1></centre>"
   ]
  },
  {
   "cell_type": "markdown",
   "id": "bff22497",
   "metadata": {},
   "source": [
    "# Dataset guardado en otros formatos"
   ]
  },
  {
   "cell_type": "code",
   "execution_count": 27,
   "id": "826f5573",
   "metadata": {},
   "outputs": [
    {
     "data": {
      "text/html": [
       "<div>\n",
       "<style scoped>\n",
       "    .dataframe tbody tr th:only-of-type {\n",
       "        vertical-align: middle;\n",
       "    }\n",
       "\n",
       "    .dataframe tbody tr th {\n",
       "        vertical-align: top;\n",
       "    }\n",
       "\n",
       "    .dataframe thead th {\n",
       "        text-align: right;\n",
       "    }\n",
       "</style>\n",
       "<table border=\"1\" class=\"dataframe\">\n",
       "  <thead>\n",
       "    <tr style=\"text-align: right;\">\n",
       "      <th></th>\n",
       "      <th>CrimeId</th>\n",
       "      <th>OriginalCrimeTypeName</th>\n",
       "      <th>OffenseDate</th>\n",
       "      <th>CallDateTime</th>\n",
       "      <th>Disposition</th>\n",
       "      <th>Address</th>\n",
       "      <th>City</th>\n",
       "      <th>State</th>\n",
       "      <th>AgencyId</th>\n",
       "      <th>AddressType</th>\n",
       "    </tr>\n",
       "  </thead>\n",
       "  <tbody>\n",
       "    <tr>\n",
       "      <th>0</th>\n",
       "      <td>160903280</td>\n",
       "      <td>Assault / Battery</td>\n",
       "      <td>1459296000000</td>\n",
       "      <td>1459363320000</td>\n",
       "      <td>REP</td>\n",
       "      <td>100 Block Of Chilton Av</td>\n",
       "      <td>San Francisco</td>\n",
       "      <td>CA</td>\n",
       "      <td>1</td>\n",
       "      <td>Premise Address</td>\n",
       "    </tr>\n",
       "    <tr>\n",
       "      <th>1</th>\n",
       "      <td>160912272</td>\n",
       "      <td>Homeless Complaint</td>\n",
       "      <td>1459382400000</td>\n",
       "      <td>1459438260000</td>\n",
       "      <td>GOA</td>\n",
       "      <td>2300 Block Of Market St</td>\n",
       "      <td>San Francisco</td>\n",
       "      <td>CA</td>\n",
       "      <td>1</td>\n",
       "      <td>Premise Address</td>\n",
       "    </tr>\n",
       "    <tr>\n",
       "      <th>2</th>\n",
       "      <td>160912590</td>\n",
       "      <td>Susp Info</td>\n",
       "      <td>1459382400000</td>\n",
       "      <td>1459442940000</td>\n",
       "      <td>GOA</td>\n",
       "      <td>2300 Block Of Market St</td>\n",
       "      <td>San Francisco</td>\n",
       "      <td>CA</td>\n",
       "      <td>1</td>\n",
       "      <td>Premise Address</td>\n",
       "    </tr>\n",
       "    <tr>\n",
       "      <th>3</th>\n",
       "      <td>160912801</td>\n",
       "      <td>Report</td>\n",
       "      <td>1459382400000</td>\n",
       "      <td>1459445880000</td>\n",
       "      <td>GOA</td>\n",
       "      <td>500 Block Of 7th St</td>\n",
       "      <td>San Francisco</td>\n",
       "      <td>CA</td>\n",
       "      <td>1</td>\n",
       "      <td>Premise Address</td>\n",
       "    </tr>\n",
       "    <tr>\n",
       "      <th>4</th>\n",
       "      <td>160912811</td>\n",
       "      <td>594</td>\n",
       "      <td>1459382400000</td>\n",
       "      <td>1459446120000</td>\n",
       "      <td>REP</td>\n",
       "      <td>Beale St/bryant St</td>\n",
       "      <td>San Francisco</td>\n",
       "      <td>CA</td>\n",
       "      <td>1</td>\n",
       "      <td>Intersection</td>\n",
       "    </tr>\n",
       "    <tr>\n",
       "      <th>...</th>\n",
       "      <td>...</td>\n",
       "      <td>...</td>\n",
       "      <td>...</td>\n",
       "      <td>...</td>\n",
       "      <td>...</td>\n",
       "      <td>...</td>\n",
       "      <td>...</td>\n",
       "      <td>...</td>\n",
       "      <td>...</td>\n",
       "      <td>...</td>\n",
       "    </tr>\n",
       "    <tr>\n",
       "      <th>10046</th>\n",
       "      <td>160964210</td>\n",
       "      <td>Well Being Check</td>\n",
       "      <td>1459814400000</td>\n",
       "      <td>1459899480000</td>\n",
       "      <td>GOA</td>\n",
       "      <td>Hollister Av/hawes St</td>\n",
       "      <td>San Francisco</td>\n",
       "      <td>CA</td>\n",
       "      <td>1</td>\n",
       "      <td>Intersection</td>\n",
       "    </tr>\n",
       "    <tr>\n",
       "      <th>10047</th>\n",
       "      <td>160964216</td>\n",
       "      <td>Traffic Stop</td>\n",
       "      <td>1459814400000</td>\n",
       "      <td>1459899780000</td>\n",
       "      <td>ADV</td>\n",
       "      <td>California St/mason St</td>\n",
       "      <td>San Francisco</td>\n",
       "      <td>CA</td>\n",
       "      <td>1</td>\n",
       "      <td>Intersection</td>\n",
       "    </tr>\n",
       "    <tr>\n",
       "      <th>10048</th>\n",
       "      <td>160964227</td>\n",
       "      <td>Traffic Stop</td>\n",
       "      <td>1459814400000</td>\n",
       "      <td>1459900080000</td>\n",
       "      <td>CIT</td>\n",
       "      <td>Rosella Ct/onondaga Av</td>\n",
       "      <td>San Francisco</td>\n",
       "      <td>CA</td>\n",
       "      <td>1</td>\n",
       "      <td>Intersection</td>\n",
       "    </tr>\n",
       "    <tr>\n",
       "      <th>10049</th>\n",
       "      <td>160964229</td>\n",
       "      <td>Passing Call</td>\n",
       "      <td>1459814400000</td>\n",
       "      <td>1459900080000</td>\n",
       "      <td>NR</td>\n",
       "      <td>0 Blk Herbst Rd</td>\n",
       "      <td>San Francisco</td>\n",
       "      <td>CA</td>\n",
       "      <td>1</td>\n",
       "      <td>Geo-Override</td>\n",
       "    </tr>\n",
       "    <tr>\n",
       "      <th>10050</th>\n",
       "      <td>160964249</td>\n",
       "      <td>Traffic Stop</td>\n",
       "      <td>1459814400000</td>\n",
       "      <td>1459900440000</td>\n",
       "      <td>ADV</td>\n",
       "      <td>Grant Av/geary St</td>\n",
       "      <td>San Francisco</td>\n",
       "      <td>CA</td>\n",
       "      <td>1</td>\n",
       "      <td>Intersection</td>\n",
       "    </tr>\n",
       "  </tbody>\n",
       "</table>\n",
       "<p>10051 rows × 10 columns</p>\n",
       "</div>"
      ],
      "text/plain": [
       "         CrimeId OriginalCrimeTypeName    OffenseDate   CallDateTime  \\\n",
       "0      160903280     Assault / Battery  1459296000000  1459363320000   \n",
       "1      160912272    Homeless Complaint  1459382400000  1459438260000   \n",
       "2      160912590             Susp Info  1459382400000  1459442940000   \n",
       "3      160912801                Report  1459382400000  1459445880000   \n",
       "4      160912811                   594  1459382400000  1459446120000   \n",
       "...          ...                   ...            ...            ...   \n",
       "10046  160964210      Well Being Check  1459814400000  1459899480000   \n",
       "10047  160964216          Traffic Stop  1459814400000  1459899780000   \n",
       "10048  160964227          Traffic Stop  1459814400000  1459900080000   \n",
       "10049  160964229          Passing Call  1459814400000  1459900080000   \n",
       "10050  160964249          Traffic Stop  1459814400000  1459900440000   \n",
       "\n",
       "      Disposition                  Address           City State  AgencyId  \\\n",
       "0             REP  100 Block Of Chilton Av  San Francisco    CA         1   \n",
       "1             GOA  2300 Block Of Market St  San Francisco    CA         1   \n",
       "2             GOA  2300 Block Of Market St  San Francisco    CA         1   \n",
       "3             GOA      500 Block Of 7th St  San Francisco    CA         1   \n",
       "4             REP       Beale St/bryant St  San Francisco    CA         1   \n",
       "...           ...                      ...            ...   ...       ...   \n",
       "10046         GOA    Hollister Av/hawes St  San Francisco    CA         1   \n",
       "10047         ADV   California St/mason St  San Francisco    CA         1   \n",
       "10048         CIT   Rosella Ct/onondaga Av  San Francisco    CA         1   \n",
       "10049          NR          0 Blk Herbst Rd  San Francisco    CA         1   \n",
       "10050         ADV        Grant Av/geary St  San Francisco    CA         1   \n",
       "\n",
       "           AddressType  \n",
       "0      Premise Address  \n",
       "1      Premise Address  \n",
       "2      Premise Address  \n",
       "3      Premise Address  \n",
       "4         Intersection  \n",
       "...                ...  \n",
       "10046     Intersection  \n",
       "10047     Intersection  \n",
       "10048     Intersection  \n",
       "10049     Geo-Override  \n",
       "10050     Intersection  \n",
       "\n",
       "[10051 rows x 10 columns]"
      ]
     },
     "execution_count": 27,
     "metadata": {},
     "output_type": "execute_result"
    }
   ],
   "source": [
    "'''El Daraframe con la limpieza aplicada de procede a guardar sus datos en un nuevo archivo plano,\n",
    "en este caso se da uso de la extension CSV'''\n",
    "df.to_csv('data_act_01_Limpio.csv', sep=',', index=False, header=True)\n",
    "'''El Daraframe con la limpieza aplicada de procede a guardar sus datos en un nuevo archivo plano,\n",
    "en este caso se da uso de la extension JSON'''\n",
    "df.to_json('data_act_01_Limpio.json', orient='records', lines=True)\n",
    "'''Lectura del dataset en formato JSON almacenado anteriormente'''\n",
    "dfJSON=pd.read_json(\"data_act_01_Limpio.json\", orient='records', lines=True)\n",
    "'''Visualización de los datos'''\n",
    "dfJSON"
   ]
  },
  {
   "cell_type": "code",
   "execution_count": 28,
   "id": "06ea6101",
   "metadata": {},
   "outputs": [
    {
     "data": {
      "text/plain": [
       "CrimeId                  0\n",
       "OriginalCrimeTypeName    0\n",
       "OffenseDate              0\n",
       "CallDateTime             0\n",
       "Disposition              0\n",
       "Address                  0\n",
       "City                     0\n",
       "State                    0\n",
       "AgencyId                 0\n",
       "AddressType              0\n",
       "dtype: int64"
      ]
     },
     "execution_count": 28,
     "metadata": {},
     "output_type": "execute_result"
    }
   ],
   "source": [
    "'''Visualización de datos nulos en el formato JSON cargado'''\n",
    "dfJSON.isnull().sum()"
   ]
  },
  {
   "cell_type": "code",
   "execution_count": 29,
   "id": "304098c4",
   "metadata": {},
   "outputs": [
    {
     "data": {
      "text/plain": [
       "City\n",
       "Brisbane              1\n",
       "Daly City             5\n",
       "Not Defined         321\n",
       "Presidio              3\n",
       "San Francisco      9667\n",
       "Treasure Island      51\n",
       "Yerba Buena           3\n",
       "dtype: int64"
      ]
     },
     "execution_count": 29,
     "metadata": {},
     "output_type": "execute_result"
    }
   ],
   "source": [
    "'''Verificacion del agrupamiento de la columna City'''\n",
    "dfJSON.groupby('City').size()"
   ]
  },
  {
   "cell_type": "code",
   "execution_count": null,
   "id": "b4c664af",
   "metadata": {},
   "outputs": [],
   "source": []
  }
 ],
 "metadata": {
  "kernelspec": {
   "display_name": "Python 3 (ipykernel)",
   "language": "python",
   "name": "python3"
  },
  "language_info": {
   "codemirror_mode": {
    "name": "ipython",
    "version": 3
   },
   "file_extension": ".py",
   "mimetype": "text/x-python",
   "name": "python",
   "nbconvert_exporter": "python",
   "pygments_lexer": "ipython3",
   "version": "3.9.12"
  }
 },
 "nbformat": 4,
 "nbformat_minor": 5
}
